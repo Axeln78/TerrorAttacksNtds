{
 "cells": [
  {
   "cell_type": "markdown",
   "metadata": {},
   "source": [
    "### Compare the terrorist attack dataset graph with the Barabasi-Albert model"
   ]
  },
  {
   "cell_type": "code",
   "execution_count": 1,
   "metadata": {},
   "outputs": [],
   "source": [
    "import random\n",
    "import numpy as np\n",
    "import pandas as pd\n",
    "import matplotlib.pyplot as plt\n",
    "import networkx as nx\n",
    "import scipy"
   ]
  },
  {
   "cell_type": "code",
   "execution_count": 2,
   "metadata": {},
   "outputs": [],
   "source": [
    "graphs          = np.load('graphs.npy')                  # the adjacency matrix\n",
    "graphLO, graphL = graphs\n",
    "n_nodes   = graphLO.number_of_nodes()                    # the number of nodes in the network\n",
    "n_edgesLO = graphLO.number_of_edges()                    # the number of edges in the network Loc & Org\n",
    "n_edgesL  = graphL.number_of_edges()                     # the number of edges in the network Loc"
   ]
  },
  {
   "cell_type": "code",
   "execution_count": 3,
   "metadata": {},
   "outputs": [],
   "source": [
    "def erdos_renyi(n, p, seed=None):\n",
    "    \"\"\"Create an instance from the Erdos-Renyi graph model.\n",
    "    \n",
    "    Parameters\n",
    "    ----------\n",
    "    n: int\n",
    "        Size of the graph.\n",
    "    p: float\n",
    "        Edge probability. A number between 0 and 1.\n",
    "    seed: int (optional)\n",
    "        Seed for the random number generator. To get reproducible results.\n",
    "    \n",
    "    Returns\n",
    "    -------\n",
    "    adjacency\n",
    "        The adjacency matrix of a graph.\n",
    "    \"\"\"\n",
    "    \n",
    "    adjacency = np.zeros((n, n))\n",
    "    \n",
    "    random.seed(seed)\n",
    "    p = float(p)\n",
    "    for i in range(n):\n",
    "        for j in range(i+1):\n",
    "            x = random.uniform(0, 1)\n",
    "            adjacency[i][j] = int(x<=p and i != j)\n",
    "            adjacency[j][i] = adjacency[i][j]\n",
    "    \n",
    "    return adjacency"
   ]
  },
  {
   "cell_type": "code",
   "execution_count": 4,
   "metadata": {},
   "outputs": [],
   "source": [
    "def barabasi_albert(n, m, m0=2, seed=None):\n",
    "    \"\"\"Create an instance from the Barabasi-Albert graph model.\n",
    "    \n",
    "    Parameters\n",
    "    ----------\n",
    "    n: int\n",
    "        Size of the graph.\n",
    "    m: int\n",
    "        Number of edges to attach from a new node to existing nodes.\n",
    "    m0: int (optional)\n",
    "        Number of nodes for the inital connected network.\n",
    "    seed: int (optional)\n",
    "        Seed for the random number generator. To get reproducible results.\n",
    "    \n",
    "    Returns\n",
    "    -------\n",
    "    adjacency\n",
    "        The adjacency matrix of a graph.\n",
    "    \"\"\"\n",
    "    \n",
    "    if m0<m:\n",
    "        m0 = m\n",
    "        \n",
    "    # We begin with an Erdos-Renyi graph of arbitrary probability\n",
    "    # and of size m0.\n",
    "    p_0 = .5;\n",
    "    initialAdjacency = erdos_renyi(m0,p_0,seed)\n",
    "    adjacency = np.zeros((n,n))\n",
    "    adjacency[0:m0, 0:m0] = initialAdjacency\n",
    "    np.random.seed(seed)\n",
    "    \n",
    "    # Add a random link to every disconnected node\n",
    "    if m0 > 1:\n",
    "        for i in range(m0):\n",
    "            if np.all(adjacency[i,:] == 0):\n",
    "                # Found a disconnected node\n",
    "                possibleNeighbors = list(range(m0))\n",
    "                possibleNeighbors.remove(i)\n",
    "                index = np.random.randint(low=0,high=m0-1)\n",
    "                j = possibleNeighbors[index]\n",
    "                adjacency[i,j] = 1\n",
    "                adjacency[j,i] = 1\n",
    "\n",
    "    # Grow the network according to the Barabasi-Albert model\n",
    "    for newNodeId in range(m0, n):\n",
    "        \n",
    "        # Build the degree distribution of the network already built\n",
    "        nLinks = np.sum(np.triu(adjacency))\n",
    "        if nLinks > 0:\n",
    "            degreeDistribution = np.sum(adjacency[0:newNodeId,0:newNodeId], axis=0)/2/nLinks\n",
    "        else:\n",
    "            degreeDistribution = np.array([1.])\n",
    "        for addNewLink in range(m):\n",
    "            connectToNode = np.random.choice(range(newNodeId),p=degreeDistribution)\n",
    "            adjacency[connectToNode, newNodeId] = 1.\n",
    "            adjacency[newNodeId, connectToNode] = 1.\n",
    "    \n",
    "    return adjacency"
   ]
  },
  {
   "cell_type": "markdown",
   "metadata": {},
   "source": [
    "As explained in milestone 2, we can use the following approximation: $m \\approx \\frac{n_{\\text{edges}}}{n_{\\text{nodes}}}$."
   ]
  },
  {
   "cell_type": "code",
   "execution_count": 5,
   "metadata": {},
   "outputs": [],
   "source": [
    "barabasiAdjacencyLO = barabasi_albert(n_nodes, int(n_edgesLO/n_nodes)+1, 2, seed=0) \n",
    "barabasiAdjacencyL  = barabasi_albert(n_nodes, int(n_edgesL /n_nodes)+1, 2, seed=0) "
   ]
  },
  {
   "cell_type": "code",
   "execution_count": 6,
   "metadata": {},
   "outputs": [],
   "source": [
    "n_edges_barabasiLO = np.sum(np.triu(barabasiAdjacencyLO))\n",
    "n_edges_barabasiL  = np.sum(np.triu(barabasiAdjacencyL))"
   ]
  },
  {
   "cell_type": "code",
   "execution_count": 7,
   "metadata": {},
   "outputs": [],
   "source": [
    "barabasiLO = nx.from_numpy_matrix(barabasiAdjacencyLO)\n",
    "barabasiL  = nx.from_numpy_matrix(barabasiAdjacencyL)"
   ]
  },
  {
   "cell_type": "code",
   "execution_count": 8,
   "metadata": {},
   "outputs": [],
   "source": [
    "degreePerNodeBarabasiLO = np.sum(barabasiAdjacencyLO, axis = 0)\n",
    "degreePerNodeBarabasiL  = np.sum(barabasiAdjacencyL,  axis = 0)\n",
    "degreePerNodeLO         = np.sum(nx.adjacency_matrix(graphLO), axis = 0)\n",
    "degreePerNodeL          = np.sum(nx.adjacency_matrix(graphL),  axis = 0)\n",
    "ksLO = range(1,np.max(degreePerNodeLO))\n",
    "ksL  = range(1,np.max(degreePerNodeL))"
   ]
  },
  {
   "cell_type": "code",
   "execution_count": 9,
   "metadata": {},
   "outputs": [],
   "source": [
    "# log-scaled bins\n",
    "binsLO = np.logspace(0, np.log10(np.max(degreePerNodeLO)), \n",
    "                     len(ksLO))\n",
    "binsL  = np.logspace(0, np.log10(np.max(degreePerNodeL)) , \n",
    "                    len(ksL))\n",
    "binsBarabasiLO = np.logspace(0, np.log10(np.max(degreePerNodeBarabasiLO)), \n",
    "                             len(ksLO))\n",
    "binsBarabasiL  = np.logspace(0, np.log10(np.max(degreePerNodeBarabasiL)) , \n",
    "                             len(ksL))\n",
    "\n",
    "# Calculate histogram\n",
    "expDistribtionLO = np.histogram(degreePerNodeLO, bins=binsLO,density=True)\n",
    "expDistribtionL  = np.histogram(degreePerNodeL , bins=binsL ,density=True)\n",
    "expDistribtionBarabasiLO = np.histogram(degreePerNodeBarabasiLO, bins=binsBarabasiLO,density=True)\n",
    "expDistribtionBarabasiL  = np.histogram(degreePerNodeBarabasiL , bins=binsBarabasiL ,density=True)"
   ]
  },
  {
   "cell_type": "code",
   "execution_count": 10,
   "metadata": {},
   "outputs": [
    {
     "data": {
      "image/png": "[encoded data removed]",
      "text/plain": [
       "<Figure size 432x288 with 1 Axes>"
      ]
     },
     "metadata": {
      "needs_background": "light"
     },
     "output_type": "display_data"
    }
   ],
   "source": [
    "plt.loglog(ksLO[0:-1],expDistribtionBarabasiLO[0],'x')\n",
    "plt.loglog(ksLO[0:-1], expDistribtionLO[0]       ,'+')\n",
    "plt.xlabel('Degree')\n",
    "plt.ylabel('Density')\n",
    "plt.title('Distributions Comparison')\n",
    "plt.legend(['Barabasi-Albert','Data (Loc+Org)'])\n",
    "pass"
   ]
  },
  {
   "cell_type": "code",
   "execution_count": 11,
   "metadata": {},
   "outputs": [
    {
     "data": {
      "image/png": "[encoded data removed]",
      "text/plain": [
       "<Figure size 432x288 with 1 Axes>"
      ]
     },
     "metadata": {
      "needs_background": "light"
     },
     "output_type": "display_data"
    }
   ],
   "source": [
    "plt.loglog(ksL[0:-1], expDistribtionBarabasiL[0],'x')\n",
    "plt.loglog(ksL[0:-1], expDistribtionL[0]        ,'+')\n",
    "plt.xlabel('Degree')\n",
    "plt.ylabel('Density')\n",
    "plt.title('Distributions Comparison')\n",
    "plt.legend(['Barabasi-Albert','Data (Loc)'])\n",
    "pass"
   ]
  },
  {
   "cell_type": "markdown",
   "metadata": {},
   "source": [
    "### Conclusion"
   ]
  },
  {
   "cell_type": "markdown",
   "metadata": {},
   "source": [
    "Since the degree distributions are not similar, we can conclude that the Barabasi-Albert model does not fit our data well."
   ]
  }
 ],
 "metadata": {
  "kernelspec": {
   "display_name": "Python 3",
   "language": "python",
   "name": "python3"
  },
  "language_info": {
   "codemirror_mode": {
    "name": "ipython",
    "version": 3
   },
   "file_extension": ".py",
   "mimetype": "text/x-python",
   "name": "python",
   "nbconvert_exporter": "python",
   "pygments_lexer": "ipython3",
   "version": "3.7.0"
  }
 },
 "nbformat": 4,
 "nbformat_minor": 2
}
