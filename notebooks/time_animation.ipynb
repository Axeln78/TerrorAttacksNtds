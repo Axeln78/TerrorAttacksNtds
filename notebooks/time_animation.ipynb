{
 "cells": [
  {
   "cell_type": "code",
   "execution_count": 370,
   "metadata": {},
   "outputs": [],
   "source": [
    "# File              time_animation\n",
    "# Author            Enea Figini, enea.figini@epfl.ch\n",
    "# Created           14 Jan 2019\n",
    "# Last modified     17 Dec 2019\n",
    "# Abstract          Build chronological animation of a graph"
   ]
  },
  {
   "cell_type": "code",
   "execution_count": 1,
   "metadata": {},
   "outputs": [],
   "source": [
    "import networkx as nx\n",
    "import numpy as np\n",
    "import pandas as pd\n",
    "import matplotlib.pyplot as plt\n",
    "from matplotlib import animation\n",
    "import datetime\n",
    "import random\n",
    "import pylab\n",
    "import os\n",
    "import cv2 # to import cv2 you need to run \n",
    "           # --pip install opencv-python in terminal\n",
    "from matplotlib.pyplot import pause\n",
    "import networkx as nx\n",
    "from collections import Counter\n",
    "import matplotlib.patches as mpatches"
   ]
  },
  {
   "cell_type": "code",
   "execution_count": 2,
   "metadata": {},
   "outputs": [],
   "source": [
    "graphLO, graphL = np.load('graphs.npy')\n",
    "nodes           = pd.read_pickle('nodes.pkl')"
   ]
  },
  {
   "cell_type": "code",
   "execution_count": 3,
   "metadata": {},
   "outputs": [],
   "source": [
    "# Complete the graph with isolated nodes\n",
    "for i in range(len(nodes)):\n",
    "    \n",
    "    if nodes.loc[i, 'node_index'] not in graphL.nodes():\n",
    "        \n",
    "        graphL.add_node(nodes.loc[i, 'node_index'])"
   ]
  },
  {
   "cell_type": "code",
   "execution_count": 4,
   "metadata": {},
   "outputs": [],
   "source": [
    "graphNodeOrderingEnum = enumerate(list(graphL.nodes()))\n",
    "graphNodeOrderingEnum = sorted(graphNodeOrderingEnum,key = lambda x:x[1])\n",
    "graphNodeOrdering     = list(graphNodeOrderingEnum)\n",
    "graphNodeOrderingT    = list(zip(*graphNodeOrdering))\n",
    "graphNodeOrderingInd  = graphNodeOrderingT[0]"
   ]
  },
  {
   "cell_type": "code",
   "execution_count": 5,
   "metadata": {},
   "outputs": [],
   "source": [
    "posL  = nx.spring_layout(graphL, dim = 2, k =.25,seed=121)"
   ]
  },
  {
   "cell_type": "code",
   "execution_count": 7,
   "metadata": {},
   "outputs": [],
   "source": [
    "timestamps = nodes.loc[:, 'timestamp']"
   ]
  },
  {
   "cell_type": "code",
   "execution_count": 8,
   "metadata": {},
   "outputs": [],
   "source": [
    "timeSorted = timestamps.sort_values()\n",
    "indexTimeSorted = timeSorted.index"
   ]
  },
  {
   "cell_type": "code",
   "execution_count": 9,
   "metadata": {},
   "outputs": [],
   "source": [
    "nx.set_node_attributes(graphL, posL, 'pos')"
   ]
  },
  {
   "cell_type": "code",
   "execution_count": 12,
   "metadata": {},
   "outputs": [],
   "source": [
    "organisations = nodes.loc[:, 'organisation']"
   ]
  },
  {
   "cell_type": "markdown",
   "metadata": {},
   "source": [
    "#### Graph Chronological Animation "
   ]
  },
  {
   "cell_type": "code",
   "execution_count": 13,
   "metadata": {},
   "outputs": [],
   "source": [
    "countOrg = Counter(organisations)\n",
    "mostCommonOrgs = list(countOrg.most_common()[0:5:]) #Select the 5 more common orgs"
   ]
  },
  {
   "cell_type": "code",
   "execution_count": 25,
   "metadata": {},
   "outputs": [
    {
     "name": "stdout",
     "output_type": "stream",
     "text": [
      "['Hamas', 'FatahTanzim', 'PalestinianIslamicJihad']\n"
     ]
    }
   ],
   "source": [
    "mostCommonOrgsNames = [x[0] for x in mostCommonOrgs]\n",
    "if 'Unknown' in mostCommonOrgsNames: mostCommonOrgsNames.remove('Unknown')\n",
    "if ''        in mostCommonOrgsNames: mostCommonOrgsNames.remove('') \n",
    "print(mostCommonOrgsNames)"
   ]
  },
  {
   "cell_type": "code",
   "execution_count": 28,
   "metadata": {},
   "outputs": [],
   "source": [
    "graph = nx.Graph()\n",
    "colors     = ['black', 'red', 'yellow', 'blue']\n",
    "node_color = []\n",
    "\n",
    "#build\n",
    "def get_fig(iteration):\n",
    "    \n",
    "    graph = graphL.subgraph(indexTimeSorted[0:iteration+1])\n",
    "    \n",
    "    node_color.clear()\n",
    "    \n",
    "    for j in range(iteration+1):\n",
    "        \n",
    "        graph_nodes = list(graph.nodes())\n",
    "        \n",
    "        org = organisations[graph_nodes[j]]\n",
    "        \n",
    "        if   org == mostCommonOrgsNames[0]:\n",
    "            node_color.append(colors   [1])\n",
    "        elif org == mostCommonOrgsNames[1]:\n",
    "            node_color.append(colors   [2])\n",
    "        elif org == mostCommonOrgsNames[2]:\n",
    "            node_color.append(colors   [3])\n",
    "        else:\n",
    "            node_color.append(colors   [0])\n",
    "            \n",
    "    fig = nx.draw_networkx(graph, with_labels = False, alpha = .6,\n",
    "                           node_size = 2   , node_color = node_color,\n",
    "                           pos=nx.get_node_attributes(graph,'pos'), \n",
    "                           edge_color = 'g', width = .25)\n",
    "    return fig\n",
    "\n",
    "# remove NaT\n",
    "countTim       = Counter(timestamps)\n",
    "mostCommonTim  = list(countTim.most_common()[0:1:])\n",
    "amountNotATime = mostCommonTim[0][1]\n",
    "num_plots = len(indexTimeSorted)-amountNotATime\n",
    "\n",
    "pylab.show()\n",
    "\n",
    "# build and save a graph for every new node (chronologically)\n",
    "for i in range(num_plots):\n",
    "        \n",
    "    fig=get_fig(i)\n",
    "    pylab.draw()\n",
    "    plt.title('Terror Attacks up to '+str(timeSorted[indexTimeSorted[i]].date())) \n",
    "    plt.axis ('off')\n",
    "    red_patch   = mpatches.Patch(color='red', label='Hamas')\n",
    "    yellow_patch = mpatches.Patch(color='yellow', label='Fatah Tanzim')\n",
    "    blue_patch   = mpatches.Patch(color='blue', label='Palestinian Islamic Jihad')\n",
    "    black_patch  = mpatches.Patch(color='black', label='other')\n",
    "    plt.legend(handles=[red_patch, yellow_patch, blue_patch, black_patch], loc=4, prop={'size': 7})\n",
    "    pylab.savefig('timelapse/timelapse'+str(i)+'.png', dpi=350)\n",
    "    plt.close()\n",
    "    pause(.001)"
   ]
  },
  {
   "cell_type": "code",
   "execution_count": 30,
   "metadata": {},
   "outputs": [],
   "source": [
    "def sort_list(listToSort, sortingList): \n",
    "    \n",
    "    zipped_pairs = zip(sortingList, listToSort) \n",
    "    z            = [x for _, x in sorted(zipped_pairs)] \n",
    "    return z \n",
    "\n",
    "def make_video(image_folder, video_name):\n",
    "    \n",
    "    images     = [img for img in os.listdir(image_folder) if img.endswith(\".png\")]\n",
    "    imageIndex = []\n",
    "    indexBeg   = len(image_folder)   # images are named as follows:\n",
    "                                     # \"timelapseIND.png\" where IND is the chronological \n",
    "                                     # index of the picture.\n",
    "    \n",
    "    # print(indexBeg)\n",
    "    for i in range(len(images)):\n",
    "        \n",
    "        imageIndex.append(float(images[i].split('.')[0][indexBeg:]))\n",
    "    \n",
    "    sortedPair = sort_list(images, imageIndex)\n",
    "    images     = sortedPair\n",
    "    frame      = cv2.imread(os.path.join(image_folder, images[0]))\n",
    "    fps = 30\n",
    "    height, width, layers = frame.shape \n",
    "    video = cv2.VideoWriter(video_name, 0, fps, (width,height))\n",
    "\n",
    "    for image in images:\n",
    "        \n",
    "        video.write(cv2.imread(os.path.join(image_folder, image)))\n",
    "\n",
    "    cv2.destroyAllWindows()\n",
    "    video.release()\n",
    "    return video"
   ]
  },
  {
   "cell_type": "code",
   "execution_count": 35,
   "metadata": {},
   "outputs": [],
   "source": [
    "video = make_video('timelapse', 'timelapse/timelapseOfGraph.mp4')"
   ]
  }
 ],
 "metadata": {
  "kernelspec": {
   "display_name": "Python 3",
   "language": "python",
   "name": "python3"
  },
  "language_info": {
   "codemirror_mode": {
    "name": "ipython",
    "version": 3
   },
   "file_extension": ".py",
   "mimetype": "text/x-python",
   "name": "python",
   "nbconvert_exporter": "python",
   "pygments_lexer": "ipython3",
   "version": "3.7.0"
  }
 },
 "nbformat": 4,
 "nbformat_minor": 2
}
