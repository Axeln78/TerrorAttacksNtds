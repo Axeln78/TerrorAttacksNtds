{
 "cells": [
  {
   "cell_type": "code",
   "execution_count": 1,
   "metadata": {},
   "outputs": [],
   "source": [
    "import networkx as nx\n",
    "import numpy as np\n",
    "import pandas as pd\n",
    "import matplotlib.pyplot as plt"
   ]
  },
  {
   "cell_type": "code",
   "execution_count": 2,
   "metadata": {},
   "outputs": [],
   "source": [
    "graphLO, graphL = np.load('graphs.npy')"
   ]
  },
  {
   "cell_type": "code",
   "execution_count": 3,
   "metadata": {},
   "outputs": [],
   "source": [
    "def plotGraph(graph,coords,signal,title,colormap=plt.cm.summer,node_size=10,node_alpha=1.,edge_alpha=.1):\n",
    "    \"\"\"Plot the signal on the graph with a colormap\n",
    "    \n",
    "    Parameters\n",
    "    ----------\n",
    "    signal: numpy array of shape (n_nodes, )\n",
    "        The signal to be displayed on the graph\n",
    "    \n",
    "    title: string\n",
    "        Title of the graph\n",
    "    \n",
    "    colormap: plt.colormaps\n",
    "        Colormap for plotting the signal\n",
    "        \n",
    "    Returns\n",
    "    -------\n",
    "    None\n",
    "    \"\"\"\n",
    "    \n",
    "    cmap=colormap\n",
    "    nx.draw_networkx_nodes(graph, coords, node_size=node_size, \n",
    "                           alpha=node_alpha, node_color=signal, cmap=cmap)\n",
    "    nx.draw_networkx_edges(graph, coords, alpha=edge_alpha)\n",
    "    plt.title(title)\n",
    "    sm = plt.cm.ScalarMappable(norm=plt.Normalize(vmin=np.min(signal),\n",
    "                                                  vmax=np.max(signal)), cmap=cmap)\n",
    "    sm._A = []\n",
    "    plt.colorbar(sm)\n",
    "    pass\n"
   ]
  },
  {
   "cell_type": "code",
   "execution_count": 7,
   "metadata": {},
   "outputs": [],
   "source": [
    "def spectrum(G):\n",
    "    # Ordered Laplacian eigenvalues.\n",
    "    e, v = np.linalg.eigh(nx.laplacian_matrix(G).toarray())\n",
    "    sortIndices = np.argsort(np.abs(e))\n",
    "    e = e[sortIndices]\n",
    "    v = v[:,sortIndices]\n",
    "    e[e < 1e-10] = 0 # ignore truncation errors\n",
    "    return e, v"
   ]
  },
  {
   "cell_type": "code",
   "execution_count": 5,
   "metadata": {},
   "outputs": [],
   "source": [
    "coordsLO = nx.spring_layout(graphLO,dim = 2,k =.3,seed=0)\n",
    "coordsL  = nx.spring_layout(graphL ,dim = 2,k =.3,seed=0)"
   ]
  },
  {
   "cell_type": "code",
   "execution_count": 8,
   "metadata": {},
   "outputs": [],
   "source": [
    "eLO, vLO = spectrum(graphLO)\n",
    "eL, vL = spectrum(graphL)"
   ]
  },
  {
   "cell_type": "code",
   "execution_count": null,
   "metadata": {},
   "outputs": [],
   "source": []
  }
 ],
 "metadata": {
  "kernelspec": {
   "display_name": "Python 3",
   "language": "python",
   "name": "python3"
  },
  "language_info": {
   "codemirror_mode": {
    "name": "ipython",
    "version": 3
   },
   "file_extension": ".py",
   "mimetype": "text/x-python",
   "name": "python",
   "nbconvert_exporter": "python",
   "pygments_lexer": "ipython3",
   "version": "3.7.0"
  }
 },
 "nbformat": 4,
 "nbformat_minor": 2
}
